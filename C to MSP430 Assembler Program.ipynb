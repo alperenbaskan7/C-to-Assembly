{
 "cells": [
  {
   "cell_type": "markdown",
   "metadata": {},
   "source": [
    "# All the Parts of The Program\n",
    "\n",
    "Here the program can be seen and execute part by part (even all functions separately) ."
   ]
  },
  {
   "cell_type": "code",
   "execution_count": null,
   "metadata": {},
   "outputs": [],
   "source": [
    "# All functions control some special characters and prints the respective assembly code to the *.asm file\n",
    "\n",
    "# These lists are defined for memory the character that we want to keep\n",
    "list_for_loop = []\n",
    "else_list = []\n",
    "print(\"Please enter the name of your C program with extension (YourProgram.c):\")"
   ]
  },
  {
   "cell_type": "code",
   "execution_count": null,
   "metadata": {},
   "outputs": [],
   "source": [
    "''' Here a file name is requested as a string from the user, remember that the *.c file must be \n",
    "in the same directory with this *.py file\n",
    "'''\n",
    "my_c_program = input()\n",
    "# First, we must open the C file that entered by the user\n",
    "c_file = open(my_c_program, \"r\")\n",
    "# After having C file we need to open an empty Assembly file\n",
    "asm_file = open(\"assembly-converted.asm\",\"w\")"
   ]
  },
  {
   "cell_type": "code",
   "execution_count": null,
   "metadata": {},
   "outputs": [],
   "source": [
    "'''function_detector function gives the name of defined all int functions,and everytime \n",
    "the name of the function is kept in the memory'''\n",
    "def function_detector(text):\n",
    "    a = text.find(\"int\")\n",
    "    b = text.find(\"(\")\n",
    "    if a != -1 and b != -1 and text.find(\"main\") == -1:\n",
    "        text = text.replace(\"int\", \"\").replace(\"\\n\", \"\").replace(\" \", \"\")\n",
    "        list1 = list(text)\n",
    "        index1 = list1.index(\"(\")\n",
    "        del list1[index1:]\n",
    "        new_String = \"\".join(map(str, list1))\n",
    "        asm_file.write(new_String)\n",
    "        asm_file.write(\": \\n\\t\")\n",
    "        asm_file.write(\"SUB.W   #4, R1\\n\\tMOV.W   R12, 2(R1)\\n\\tMOV.W   R13, @R1\\n\")\n",
    "    if text.find(\"main\") != -1:\n",
    "        asm_file.write(\"main:\\n\\tSUB.W   #6, R1\\n\")"
   ]
  },
  {
   "cell_type": "code",
   "execution_count": null,
   "metadata": {},
   "outputs": [],
   "source": [
    "# sum function is looking for if any \"+\" character exists.\n",
    "def sum(text):\n",
    "    a = text.find(\"+\")\n",
    "    if a != -1 and text.find(\"if\") == -1 and text.find(\"for\") == -1 and text.find(\"else\") == -1:\n",
    "        if text.find(\"return\"):\n",
    "            asm_file.write(\"\\tMOV.W   2(R1), R12\\n\\tADD.W   @R1, R12\\n\\tADD.W   #4, R1\\n\\tRET\\n\")"
   ]
  },
  {
   "cell_type": "code",
   "execution_count": null,
   "metadata": {},
   "outputs": [],
   "source": [
    "#substract function is just like sum function , is looking for \"-\" character\n",
    "def substract(text):\n",
    "    a = text.find(\"-\")\n",
    "    if a != -1 and text.find(\"if\") == -1 and text.find(\"for\") == -1 and text.find(\"else\") == -1:\n",
    "        if text.find(\"return\"):\n",
    "            asm_file.write(\"\\tMOV.W   2(R1), R12\\n\\tSUB.W   @R1, R12\\n\\tADD.W   #4, R1\\n\\tRET\\n\")"
   ]
  },
  {
   "cell_type": "code",
   "execution_count": null,
   "metadata": {},
   "outputs": [],
   "source": [
    "#multiply function is looking for \"-\" character\n",
    "def multiply(text):\n",
    "    a = text.find(\"*\")\n",
    "    if a != -1 and text.find(\"if\") == -1 and text.find(\"for\") == -1 and text.find(\"else\") == -1:\n",
    "        if text.find(\"return\"):\n",
    "            asm_file.write(\"\\tMOV.W   @(R1), R13\\n\\tCALL    #__mspabi_mpyi\\n\\tADD.W   #4, R1\\n\\tRET\\n\")"
   ]
  },
  {
   "cell_type": "code",
   "execution_count": null,
   "metadata": {},
   "outputs": [],
   "source": [
    "# find_forloop function search the string \"for\" and if for exists , splits the string by \";\" character\n",
    "def find_forloop(text):\n",
    "    if text.find(\"for\") != -1 and text.find(\"(\") != -1 and text.find(\")\") != -1 :\n",
    "        text = text.replace(\"for\",\"\").replace(\"\\t\",\"\").replace(\"\\n\",\"\").replace(\" \",\"\").replace(\"{\",\"\").replace(\"(\",\"\").replace(\")\",\"\")\n",
    "        text = text.split(\";\")\n",
    "        list_for_loop = text"
   ]
  },
  {
   "cell_type": "code",
   "execution_count": null,
   "metadata": {},
   "outputs": [],
   "source": [
    "# Here find_ifcommand function looks whether there is \"if\" string and function is not called if there is \"else\" character\n",
    "def find_ifcommand(text):\n",
    "    if text.find(\"if\") != -1 and text.find(\"(\") != -1 and text.find(\")\") != -1 and text.find(\"else\") == -1:\n",
    "        asm_file.write(\"\\n\\tMOV.W   4(R1),R12\\n\\tSUB.W   2(R1), R12\")\n",
    "        text = text.replace(\"if\", \"\").replace(\" \", \"\").replace(\"\\n\", \"\").replace(\"{\", \"\").replace(\" \",\"\").replace(\"\\t\",\"\").replace(\"(\",\"\").replace(\")\",\"\")\n",
    "        list1 = list(text)\n",
    "        if text.find(\";\") == -1:\n",
    "            if text.find(\"==\") != -1:\n",
    "                index_for_number = text.index(\"==\")\n",
    "                number_in_if = text[index_for_number+2:]\n",
    "                asm_file.write(\"\\n\\tCMP.W   #\")\n",
    "                asm_file.write(number_in_if)\n",
    "                asm_file.write(\", R12 { JNE .L10\\n\")"
   ]
  },
  {
   "cell_type": "code",
   "execution_count": null,
   "metadata": {},
   "outputs": [],
   "source": [
    "# Looks if there is any \"else\" string basically\n",
    "def else_command(text):\n",
    "    if text.find(\"else\") != -1 and text.find(\"if\") == -1:\n",
    "        text = text.replace(\"else\", \"\").replace(\" \", \"\").replace(\"\\n\", \"\").replace(\"{\", \"\").replace(\" \", \"\").replace(\"\\t\", \"\")\n",
    "        else_list.append(\"else\")"
   ]
  },
  {
   "cell_type": "code",
   "execution_count": null,
   "metadata": {},
   "outputs": [],
   "source": [
    "# assignments_func looks the assigned values and prints the respective *.asm code\n",
    "def assignments_func(text):\n",
    "    if text.find(\"=\") != -1 and text.find(\"int\") != -1 and text.find(\";\") != -1 :\n",
    "        text = text.replace(\"int\", \"\").replace(\"\\n\", \"\").replace(\";\", \"\").replace(\"\\t\", \"\")\n",
    "        new_list =text.split(\",\")\n",
    "        list2 = []\n",
    "        for a in new_list:\n",
    "            if a.find(\"=\") != -1:\n",
    "                index1 = a.index(\"=\")\n",
    "                list1 = list(a)\n",
    "                del list1[0:index1+1]\n",
    "                new_String = \"\".join(map(str, list1))\n",
    "                list2.append(new_String)\n",
    "        asm_file.write(\"\\tMOV.W   #\")\n",
    "        asm_file.write(list2[0])\n",
    "        asm_file.write(\", 4(R1)\\n\\t\")\n",
    "        asm_file.write(\"MOV.W   #\")\n",
    "        asm_file.write(list2[1])\n",
    "        asm_file.write(\", 2(R1)\\n\")\n",
    "    if text.find(\"int\") == -1 and text.find(\"=\") != -1 and text.find(\";\")!= -1 and text.find(\"^\") == -1 and text.find(\"(\") == -1:\n",
    "        text = text.replace(\" \", \"\").replace(\";\", \"\").replace(\"}\",\"\").replace(\"\\n\",\"\")\n",
    "        index_num = text.index(\"=\")\n",
    "        list_new = list(text)\n",
    "        del list_new[0:index_num+1]\n",
    "        asm_file.write(\"\\tMOV.W   #\")\n",
    "        asm_file.write(list_new[0])\n",
    "        asm_file.write(\", 4(R1)\\n\\tBR      #.L11\\n\")"
   ]
  },
  {
   "cell_type": "code",
   "execution_count": null,
   "metadata": {},
   "outputs": [],
   "source": [
    "# xor_function looks if there is any XOR operation , if exists prints XOR.W operation\n",
    "def xor_function(text):\n",
    "    if text.find(\"^\") != -1 and text.find(\"=\") != -1 and text.find(\";\") != -1:\n",
    "        asm_file.write(\"\\tMOV.W   4(R1), R12\\n\\tXOR.W   2(R1), R12\\n\\tMOV.W   R12, @R1\")"
   ]
  },
  {
   "cell_type": "code",
   "execution_count": null,
   "metadata": {},
   "outputs": [],
   "source": [
    "# or_function detector basically looks for the character \"||\"\n",
    "def or_function(text):\n",
    "    if text.find(\"||\") != -1:\n",
    "        temp_or =2\n",
    "        temp1 = text[:text.find(\"||\")]\n",
    "        text = text.replace(text[:text.find(\"||\")], \"\")\n",
    "        text = text.replace(\"||\", \"\")\n",
    "        temp2 = text\n",
    "        # TO DO\n",
    "        asm_file.write(\"\\tCMP.W   #0, -2(R4) { JNE      .L\" + str(temp_or) + \"\\n\")\n",
    "        asm_file.write(\"\\tCMP.W   #0, -4(R4) { JEQ      .L\" + str(temp_or + 1) + \"\\n\")\n",
    "        asm_file.write(\".L\" + str(temp_or) + \":\\n\")\n",
    "        asm_file.write(\"\\tMOV.B   #1, R12\\n\")\n",
    "        asm_file.write(\"\\tBR  # .L\" + str(temp_or + 2) + \"\\n\")\n",
    "        asm_file.write(\".L\" + str(temp_or + 1) + \":\\n\")\n",
    "        asm_file.write(\"\\tMOV.B   #0, R12\\n\")\n",
    "        asm_file.write(\".L\" + str(temp_or + 2) + \":\\n\")\n",
    "        asm_file.write(\"\\tADD.W   #4, R1\\n\\tPOPM.W  #1, r4\\n\\tRET\\n\")\n",
    "        temp_or += 5"
   ]
  },
  {
   "cell_type": "code",
   "execution_count": null,
   "metadata": {},
   "outputs": [],
   "source": [
    "#pretty same like the or function , finds if there exists any \"&&\" character\n",
    "def and_function(text):\n",
    "    if text.find(\"&&\") != -1:\n",
    "        temp_and = 1\n",
    "\n",
    "        temp1 = text[:text.find(\"&&\")]\n",
    "        text = text.replace(text[:text.find(\"&&\")], \"\")\n",
    "        text = text.replace(\"&&\", \"\")\n",
    "        temp2 = text\n",
    "        asm_file.write(\"\\tCMP.W   #0, -2(R4) { JEQ      .L\" + str(temp_and) + \"\\n\")\n",
    "        asm_file.write(\"\\tCMP.W   #0, -4(R4) { JEQ      .L\" + str(temp_and) + \"\\n\")\n",
    "        asm_file.write(\"\\tMOV.B   #1, R12\\n\")\n",
    "        asm_file.write(\"\\tBR  # .L\" + str(temp_and + 1) + \"\\n\")\n",
    "        asm_file.write(\".L\" + str(temp_and) + \":\\n\")\n",
    "        asm_file.write(\"\\tMOV.B   #0, R12\\n\")\n",
    "        asm_file.write(\".L\" + str(temp_and + 1) + \":\\n\")\n",
    "        asm_file.write(\"\\tADD.W   #4, R1\\n\\tPOPM.W  #1, r4\\n\\tRET\\n\")\n",
    "        temp_and += 1"
   ]
  },
  {
   "cell_type": "code",
   "execution_count": null,
   "metadata": {},
   "outputs": [],
   "source": [
    "'''\n",
    "In the main function firstly , we read the C file line by line and for every line we call the functions defined above.\n",
    "The program controls every line with the respective functions and if there is any character we looked for program writes \n",
    "it to the *asm file .\n",
    "'''\n",
    "def main():\n",
    "    for x in c_file:\n",
    "        if x != \"{\\n\":\n",
    "            function_detector(x)\n",
    "            sum(x)\n",
    "            substract(x)\n",
    "            multiply(x)\n",
    "            find_ifcommand(x)\n",
    "            find_forloop(x)\n",
    "            else_command(x)\n",
    "            assignments_func(x)\n",
    "            xor_function(x)\n",
    "            or_function(x)\n",
    "            and_function(x)"
   ]
  },
  {
   "cell_type": "code",
   "execution_count": null,
   "metadata": {},
   "outputs": [],
   "source": [
    "'''\n",
    "After calling main function , we need  to close C file first because we don't need C file anymore\n",
    "Since it is hard to view *.asm file , the code in the *.asm file is copied to a *.txt file \n",
    "Finally *asm file is closed to view our new file well. \n",
    "'''\n",
    "main()\n",
    "c_file.close()\n",
    "asm_file.close()\n",
    "asm_file = open(\"assembly-converted.asm\", \"r\")\n",
    "x = asm_file.read()\n",
    "asm_file.close()\n",
    "asm2_file = open(\"assembly-converted.txt\", \"w\")\n",
    "asm2_file.write(x)\n",
    "asm2_file.close()\n",
    "print(\"Please check the file that you put C file to see your converted (assembly-converted.asm) file\\nAlso You can find the file assembly-converted.txt to see the text in the assembly program\")\n",
    "print(\"\\nYou can first try with the existing file (program.c) \")\n",
    "k = input(\"Press Enter to Exit\")"
   ]
  }
 ],
 "metadata": {
  "kernelspec": {
   "display_name": "Python 3",
   "language": "python",
   "name": "python3"
  },
  "language_info": {
   "codemirror_mode": {
    "name": "ipython",
    "version": 3
   },
   "file_extension": ".py",
   "mimetype": "text/x-python",
   "name": "python",
   "nbconvert_exporter": "python",
   "pygments_lexer": "ipython3",
   "version": "3.7.6"
  }
 },
 "nbformat": 4,
 "nbformat_minor": 4
}
